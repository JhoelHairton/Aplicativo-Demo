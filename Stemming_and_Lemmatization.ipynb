{
  "nbformat": 4,
  "nbformat_minor": 0,
  "metadata": {
    "colab": {
      "provenance": [],
      "authorship_tag": "ABX9TyPLCI0o2YnB1NbP+aSBvadU",
      "include_colab_link": true
    },
    "kernelspec": {
      "name": "python3",
      "display_name": "Python 3"
    },
    "language_info": {
      "name": "python"
    }
  },
  "cells": [
    {
      "cell_type": "markdown",
      "metadata": {
        "id": "view-in-github",
        "colab_type": "text"
      },
      "source": [
        "<a href=\"https://colab.research.google.com/github/JhoelHairton/Aplicativo-Demo/blob/main/Stemming_and_Lemmatization.ipynb\" target=\"_parent\"><img src=\"https://colab.research.google.com/assets/colab-badge.svg\" alt=\"Open In Colab\"/></a>"
      ]
    },
    {
      "cell_type": "code",
      "execution_count": null,
      "metadata": {
        "id": "GZahCZnNmHa3"
      },
      "outputs": [],
      "source": []
    },
    {
      "cell_type": "code",
      "metadata": {
        "colab": {
          "base_uri": "https://localhost:8080/"
        },
        "id": "c47eecb1",
        "outputId": "1042f6f8-2aae-4a6f-bdb4-102fdc171515"
      },
      "source": [
        "import nltk\n",
        "from nltk.stem import WordNetLemmatizer\n",
        "\n",
        "# Descargar el lematizador y los datos necesarios\n",
        "nltk.download('wordnet', quiet=True)\n",
        "nltk.download('omw-1.4', quiet=True)\n",
        "\n",
        "# Inicializar el lematizador\n",
        "lemmatizer = WordNetLemmatizer()\n",
        "\n",
        "# Lista de palabras para aplicar lematización\n",
        "palabras = [\"running\", \"runs\", \"ran\", \"better\", \"good\"]\n",
        "\n",
        "# Aplicar lematización a cada palabra\n",
        "# Es importante especificar el part-of-speech (pos) para una mejor lematización\n",
        "# Por defecto, es 'n' (sustantivo), pero podemos usar 'v' (verbo), 'a' (adjetivo), etc.\n",
        "palabras_lemmatized = [lemmatizer.lemmatize(palabra, pos='v') for palabra in palabras]\n",
        "palabras_lemmatized_adj = [lemmatizer.lemmatize(palabra, pos='a') for palabra in palabras]\n",
        "\n",
        "\n",
        "print(\"Palabras originales:\", palabras)\n",
        "print(\"Palabras lematizadas (verbo):\", palabras_lemmatized)\n",
        "print(\"Palabras lematizadas (adjetivo):\", palabras_lemmatized_adj)"
      ],
      "execution_count": 8,
      "outputs": [
        {
          "output_type": "stream",
          "name": "stdout",
          "text": [
            "Palabras originales: ['running', 'runs', 'ran', 'better', 'good']\n",
            "Palabras lematizadas (verbo): ['run', 'run', 'run', 'better', 'good']\n",
            "Palabras lematizadas (adjetivo): ['running', 'runs', 'ran', 'good', 'good']\n"
          ]
        }
      ]
    }
  ]
}